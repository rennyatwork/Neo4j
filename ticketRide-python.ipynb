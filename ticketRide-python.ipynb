{
 "cells": [
  {
   "cell_type": "code",
   "execution_count": 2,
   "metadata": {},
   "outputs": [
    {
     "name": "stdout",
     "output_type": "stream",
     "text": [
      "Requirement already satisfied: kafka-python in /usr/local/lib/python3.6/site-packages (2.0.2)\n",
      "Requirement already satisfied: pandas in /usr/local/lib64/python3.6/site-packages (1.1.5)\n",
      "Requirement already satisfied: python-dateutil>=2.7.3 in /usr/local/lib/python3.6/site-packages (from pandas) (2.8.2)\n",
      "Requirement already satisfied: pytz>=2017.2 in /usr/lib/python3.6/site-packages (from pandas) (2017.2)\n",
      "Requirement already satisfied: numpy>=1.15.4 in /usr/local/lib64/python3.6/site-packages (from pandas) (1.19.5)\n",
      "Requirement already satisfied: six>=1.5 in /usr/local/lib/python3.6/site-packages (from python-dateutil>=2.7.3->pandas) (1.16.0)\n",
      "Requirement already satisfied: numpy in /usr/local/lib64/python3.6/site-packages (1.19.5)\n",
      "Requirement already satisfied: geojson in /usr/local/lib/python3.6/site-packages (2.5.0)\n",
      "Collecting setuptools\n",
      "  Using cached setuptools-59.6.0-py3-none-any.whl (952 kB)\n",
      "Installing collected packages: setuptools\n",
      "Successfully installed setuptools-59.6.0\n"
     ]
    }
   ],
   "source": [
    "import sys\n",
    "#!{sys.executable} -m pip install kafka-python\n",
    "#!{sys.executable} -m pip install pandas\n",
    "#!{sys.executable} -m pip install numpy\n",
    "#!{sys.executable} -m pip install geojson\n",
    "#!{sys.executable} -m pip install -I setuptools \n",
    "#!{sys.executable} -m pip install matplotlib"
   ]
  },
  {
   "cell_type": "code",
   "execution_count": 3,
   "metadata": {},
   "outputs": [],
   "source": [
    "## https://medium.com/@technologydata25/connect-neo4j-to-jupyter-notebook-c178f716d6d5\n",
    "from py2neo import Graph,Node,Relationship"
   ]
  },
  {
   "cell_type": "code",
   "execution_count": 12,
   "metadata": {},
   "outputs": [],
   "source": [
    "url=\"bolt://44.203.177.87:7687\"\n",
    "username=\"neo4j\"\n",
    "password=\"animals-art-folder\""
   ]
  },
  {
   "cell_type": "code",
   "execution_count": 13,
   "metadata": {},
   "outputs": [],
   "source": [
    "graph = Graph(url, auth=(username, password))"
   ]
  },
  {
   "cell_type": "code",
   "execution_count": 14,
   "metadata": {},
   "outputs": [
    {
     "data": {
      "text/plain": [
       "Graph('bolt://44.203.177.87:7687')"
      ]
     },
     "execution_count": 14,
     "metadata": {},
     "output_type": "execute_result"
    }
   ],
   "source": [
    "graph"
   ]
  },
  {
   "cell_type": "code",
   "execution_count": 16,
   "metadata": {},
   "outputs": [],
   "source": [
    "createConstraintQuery=\"\"\"\n",
    "create constraint pkCity\n",
    "for (c:City)\n",
    "require c.cityName is unique\n",
    "\"\"\"\n",
    "graph.evaluate(createConstraintQuery)"
   ]
  },
  {
   "cell_type": "code",
   "execution_count": 32,
   "metadata": {},
   "outputs": [
    {
     "data": {
      "text/plain": [
       "1"
      ]
     },
     "execution_count": 32,
     "metadata": {},
     "output_type": "execute_result"
    }
   ],
   "source": [
    "populateDbQuery=\"\"\"\n",
    "call apoc.periodic.iterate(\n",
    "\"load csv with headers from 'https://raw.githubusercontent.com/rennyatwork/GeoPlot/master/DataSets/ticketToRide_edges.csv' as row\n",
    "fieldterminator ';'\n",
    "with row\n",
    "return row\"\n",
    ", \"with row\n",
    "merge (orig:City{\n",
    "cityName:row.orig\n",
    ", lat:apoc.convert.toFloat(row.orig_lat) \n",
    ", lon:apoc.convert.toFloat(row.orig_lon) \n",
    "})\n",
    "\n",
    "merge (dest:City{\n",
    "cityName:row.dest\n",
    ", lat:apoc.convert.toFloat(row.dest_lat) \n",
    ", lon:apoc.convert.toFloat(row.dest_lon) \n",
    "})\n",
    "\n",
    "merge (orig)-[:is_connected{distance:toInteger(row.distance), color:row.color}]-(dest)\n",
    "\"\n",
    ", {batchSize:100, parallel:false}\n",
    ")\n",
    "\"\"\"\n",
    "graph.evaluate(populateDbQuery)"
   ]
  },
  {
   "cell_type": "code",
   "execution_count": 33,
   "metadata": {},
   "outputs": [],
   "source": [
    "x=graph.evaluate(\"match(n) return count(n)\")"
   ]
  },
  {
   "cell_type": "code",
   "execution_count": 34,
   "metadata": {},
   "outputs": [
    {
     "data": {
      "text/plain": [
       "35"
      ]
     },
     "execution_count": 34,
     "metadata": {},
     "output_type": "execute_result"
    }
   ],
   "source": [
    "x"
   ]
  },
  {
   "cell_type": "code",
   "execution_count": 35,
   "metadata": {},
   "outputs": [],
   "source": [
    "x=graph.evaluate(\"match(n) return n\")"
   ]
  },
  {
   "cell_type": "code",
   "execution_count": 37,
   "metadata": {},
   "outputs": [
    {
     "data": {
      "text/plain": [
       "py2neo.data.Node"
      ]
     },
     "execution_count": 37,
     "metadata": {},
     "output_type": "execute_result"
    }
   ],
   "source": [
    "type(x)"
   ]
  }
 ],
 "metadata": {
  "interpreter": {
   "hash": "916dbcbb3f70747c44a77c7bcd40155683ae19c65e1c03b4aa3499c5328201f1"
  },
  "kernelspec": {
   "display_name": "Python 3.6.8 64-bit",
   "language": "python",
   "name": "python3"
  },
  "language_info": {
   "codemirror_mode": {
    "name": "ipython",
    "version": 3
   },
   "file_extension": ".py",
   "mimetype": "text/x-python",
   "name": "python",
   "nbconvert_exporter": "python",
   "pygments_lexer": "ipython3",
   "version": "3.6.8"
  },
  "orig_nbformat": 4
 },
 "nbformat": 4,
 "nbformat_minor": 2
}
